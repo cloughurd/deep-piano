{
  "nbformat": 4,
  "nbformat_minor": 0,
  "metadata": {
    "colab": {
      "name": "MAESTRO-loader.ipynb",
      "provenance": [],
      "collapsed_sections": [],
      "authorship_tag": "ABX9TyMCEYrFNa6s7n0dw1ntAEFa",
      "include_colab_link": true
    },
    "kernelspec": {
      "name": "python3",
      "display_name": "Python 3"
    }
  },
  "cells": [
    {
      "cell_type": "markdown",
      "metadata": {
        "id": "view-in-github",
        "colab_type": "text"
      },
      "source": [
        "<a href=\"https://colab.research.google.com/github/cloughurd/deep-piano/blob/master/MAESTRO_loader.ipynb\" target=\"_parent\"><img src=\"https://colab.research.google.com/assets/colab-badge.svg\" alt=\"Open In Colab\"/></a>"
      ]
    },
    {
      "cell_type": "code",
      "metadata": {
        "id": "BA_EaheSB6lX",
        "colab_type": "code",
        "colab": {
          "base_uri": "https://localhost:8080/",
          "height": 204
        },
        "outputId": "6777ae11-01c3-4c27-ebce-09ff7e78b8d5"
      },
      "source": [
        "## Full dataset\n",
        "# !wget -O ./maestro.zip https://storage.googleapis.com/magentadata/datasets/maestro/v2.0.0/maestro-v2.0.0.zip\n",
        "## MIDI only dataset\n",
        "!wget -O ./maestro-midi.zip https://storage.googleapis.com/magentadata/datasets/maestro/v2.0.0/maestro-v2.0.0-midi.zip\n",
        "!unzip -q ./maestro-midi.zip"
      ],
      "execution_count": 6,
      "outputs": [
        {
          "output_type": "stream",
          "text": [
            "--2020-01-28 21:37:07--  https://storage.googleapis.com/magentadata/datasets/maestro/v2.0.0/maestro-v2.0.0-midi.zip\n",
            "Resolving storage.googleapis.com (storage.googleapis.com)... 173.194.195.128, 2607:f8b0:4001:c05::80\n",
            "Connecting to storage.googleapis.com (storage.googleapis.com)|173.194.195.128|:443... connected.\n",
            "HTTP request sent, awaiting response... 200 OK\n",
            "Length: 59243107 (56M) [application/zip]\n",
            "Saving to: ‘./maestro-midi.zip’\n",
            "\n",
            "./maestro-midi.zip  100%[===================>]  56.50M  46.8MB/s    in 1.2s    \n",
            "\n",
            "2020-01-28 21:37:08 (46.8 MB/s) - ‘./maestro-midi.zip’ saved [59243107/59243107]\n",
            "\n"
          ],
          "name": "stdout"
        }
      ]
    },
    {
      "cell_type": "code",
      "metadata": {
        "id": "pm8RBYPHHesu",
        "colab_type": "code",
        "colab": {
          "base_uri": "https://localhost:8080/",
          "height": 221
        },
        "outputId": "d28c2d09-9fb7-4854-efb9-e6c2c8358d22"
      },
      "source": [
        "!pip3 install torch \n",
        "!pip3 install torchvision\n",
        "!pip3 install tqdm\n",
        "!pip3 install pysoundfile\n",
        "!pip3 install mido"
      ],
      "execution_count": 14,
      "outputs": [
        {
          "output_type": "stream",
          "text": [
            "Requirement already satisfied: torch in /usr/local/lib/python3.6/dist-packages (1.3.1)\n",
            "Requirement already satisfied: numpy in /usr/local/lib/python3.6/dist-packages (from torch) (1.17.5)\n",
            "Requirement already satisfied: torchvision in /usr/local/lib/python3.6/dist-packages (0.4.2)\n",
            "Requirement already satisfied: pillow>=4.1.1 in /usr/local/lib/python3.6/dist-packages (from torchvision) (6.2.2)\n",
            "Requirement already satisfied: six in /usr/local/lib/python3.6/dist-packages (from torchvision) (1.12.0)\n",
            "Requirement already satisfied: numpy in /usr/local/lib/python3.6/dist-packages (from torchvision) (1.17.5)\n",
            "Requirement already satisfied: torch==1.3.1 in /usr/local/lib/python3.6/dist-packages (from torchvision) (1.3.1)\n",
            "Requirement already satisfied: tqdm in /usr/local/lib/python3.6/dist-packages (4.28.1)\n",
            "Requirement already satisfied: pysoundfile in /usr/local/lib/python3.6/dist-packages (0.9.0.post1)\n",
            "Requirement already satisfied: cffi>=0.6 in /usr/local/lib/python3.6/dist-packages (from pysoundfile) (1.13.2)\n",
            "Requirement already satisfied: pycparser in /usr/local/lib/python3.6/dist-packages (from cffi>=0.6->pysoundfile) (2.19)\n",
            "Requirement already satisfied: mido in /usr/local/lib/python3.6/dist-packages (1.2.6)\n"
          ],
          "name": "stdout"
        }
      ]
    },
    {
      "cell_type": "code",
      "metadata": {
        "id": "7TLTmqZKGRhf",
        "colab_type": "code",
        "colab": {}
      },
      "source": [
        "import torch\n",
        "from torch.utils.data import Dataset, DataLoader\n",
        "\n",
        "import pandas as pd\n",
        "import soundfile as sf\n",
        "import mido\n",
        "import numpy as np\n"
      ],
      "execution_count": 0,
      "outputs": []
    },
    {
      "cell_type": "code",
      "metadata": {
        "id": "XuGmEh1ZEOrw",
        "colab_type": "code",
        "colab": {
          "base_uri": "https://localhost:8080/",
          "height": 34
        },
        "outputId": "b6cb025e-b260-4ec6-94fe-ce0e5dff979b"
      },
      "source": [
        "!ls"
      ],
      "execution_count": 7,
      "outputs": [
        {
          "output_type": "stream",
          "text": [
            "maestro-midi.zip  maestro-v2.0.0  maestro.zip  sample_data\n"
          ],
          "name": "stdout"
        }
      ]
    },
    {
      "cell_type": "code",
      "metadata": {
        "id": "zt7eu12rEzzb",
        "colab_type": "code",
        "colab": {
          "base_uri": "https://localhost:8080/",
          "height": 51
        },
        "outputId": "8ce4cc19-f3d5-4297-a65d-4f4e722e5e62"
      },
      "source": [
        "!ls maestro-v2.0.0/"
      ],
      "execution_count": 8,
      "outputs": [
        {
          "output_type": "stream",
          "text": [
            "2004  2008  2011  2014\t2017  LICENSE\t\t  maestro-v2.0.0.json\n",
            "2006  2009  2013  2015\t2018  maestro-v2.0.0.csv  README\n"
          ],
          "name": "stdout"
        }
      ]
    },
    {
      "cell_type": "code",
      "metadata": {
        "id": "q-AJdCCYE2jS",
        "colab_type": "code",
        "colab": {
          "base_uri": "https://localhost:8080/",
          "height": 289
        },
        "outputId": "9c9b1ffd-2829-488d-90a0-01fa59d3a148"
      },
      "source": [
        "import pandas as pd\n",
        "\n",
        "df = pd.read_csv('maestro-v2.0.0/maestro-v2.0.0.csv')\n",
        "df.head()"
      ],
      "execution_count": 10,
      "outputs": [
        {
          "output_type": "execute_result",
          "data": {
            "text/html": [
              "<div>\n",
              "<style scoped>\n",
              "    .dataframe tbody tr th:only-of-type {\n",
              "        vertical-align: middle;\n",
              "    }\n",
              "\n",
              "    .dataframe tbody tr th {\n",
              "        vertical-align: top;\n",
              "    }\n",
              "\n",
              "    .dataframe thead th {\n",
              "        text-align: right;\n",
              "    }\n",
              "</style>\n",
              "<table border=\"1\" class=\"dataframe\">\n",
              "  <thead>\n",
              "    <tr style=\"text-align: right;\">\n",
              "      <th></th>\n",
              "      <th>canonical_composer</th>\n",
              "      <th>canonical_title</th>\n",
              "      <th>split</th>\n",
              "      <th>year</th>\n",
              "      <th>midi_filename</th>\n",
              "      <th>audio_filename</th>\n",
              "      <th>duration</th>\n",
              "    </tr>\n",
              "  </thead>\n",
              "  <tbody>\n",
              "    <tr>\n",
              "      <th>0</th>\n",
              "      <td>Alban Berg</td>\n",
              "      <td>Sonata Op. 1</td>\n",
              "      <td>train</td>\n",
              "      <td>2018</td>\n",
              "      <td>2018/MIDI-Unprocessed_Chamber3_MID--AUDIO_10_R...</td>\n",
              "      <td>2018/MIDI-Unprocessed_Chamber3_MID--AUDIO_10_R...</td>\n",
              "      <td>698.661160</td>\n",
              "    </tr>\n",
              "    <tr>\n",
              "      <th>1</th>\n",
              "      <td>Alban Berg</td>\n",
              "      <td>Sonata Op. 1</td>\n",
              "      <td>train</td>\n",
              "      <td>2008</td>\n",
              "      <td>2008/MIDI-Unprocessed_03_R2_2008_01-03_ORIG_MI...</td>\n",
              "      <td>2008/MIDI-Unprocessed_03_R2_2008_01-03_ORIG_MI...</td>\n",
              "      <td>759.518471</td>\n",
              "    </tr>\n",
              "    <tr>\n",
              "      <th>2</th>\n",
              "      <td>Alban Berg</td>\n",
              "      <td>Sonata Op. 1</td>\n",
              "      <td>train</td>\n",
              "      <td>2017</td>\n",
              "      <td>2017/MIDI-Unprocessed_066_PIANO066_MID--AUDIO-...</td>\n",
              "      <td>2017/MIDI-Unprocessed_066_PIANO066_MID--AUDIO-...</td>\n",
              "      <td>464.649433</td>\n",
              "    </tr>\n",
              "    <tr>\n",
              "      <th>3</th>\n",
              "      <td>Alexander Scriabin</td>\n",
              "      <td>24 Preludes Op. 11, No. 13-24</td>\n",
              "      <td>train</td>\n",
              "      <td>2004</td>\n",
              "      <td>2004/MIDI-Unprocessed_XP_21_R1_2004_01_ORIG_MI...</td>\n",
              "      <td>2004/MIDI-Unprocessed_XP_21_R1_2004_01_ORIG_MI...</td>\n",
              "      <td>872.640588</td>\n",
              "    </tr>\n",
              "    <tr>\n",
              "      <th>4</th>\n",
              "      <td>Alexander Scriabin</td>\n",
              "      <td>3 Etudes, Op. 65</td>\n",
              "      <td>validation</td>\n",
              "      <td>2006</td>\n",
              "      <td>2006/MIDI-Unprocessed_17_R1_2006_01-06_ORIG_MI...</td>\n",
              "      <td>2006/MIDI-Unprocessed_17_R1_2006_01-06_ORIG_MI...</td>\n",
              "      <td>397.857508</td>\n",
              "    </tr>\n",
              "  </tbody>\n",
              "</table>\n",
              "</div>"
            ],
            "text/plain": [
              "   canonical_composer  ...    duration\n",
              "0          Alban Berg  ...  698.661160\n",
              "1          Alban Berg  ...  759.518471\n",
              "2          Alban Berg  ...  464.649433\n",
              "3  Alexander Scriabin  ...  872.640588\n",
              "4  Alexander Scriabin  ...  397.857508\n",
              "\n",
              "[5 rows x 7 columns]"
            ]
          },
          "metadata": {
            "tags": []
          },
          "execution_count": 10
        }
      ]
    },
    {
      "cell_type": "code",
      "metadata": {
        "id": "LUY4l10BFwS5",
        "colab_type": "code",
        "colab": {}
      },
      "source": [
        "class MaestroDataset(Dataset):\n",
        "  def __init__(self, root, train=True):\n",
        "    df = pd.read_csv(root + 'maestro-v2.0.0.csv')\n",
        "    if train:\n",
        "      split_type = 'train'\n",
        "    else:\n",
        "      split_type = 'validation'\n",
        "    self.data = df[df.split == split_type]\n",
        "    self.root = root\n",
        "\n",
        "  def __getitem__(self, i):\n",
        "    audio_f = self.data.iloc[i]['audio_filename']\n",
        "    print(audio_f)\n",
        "    midi_f = self.data.iloc[i]['midi_filename']\n",
        "    print(midi_f)\n",
        "    # x, sr = sf.read(self.root + audio_f)\n",
        "    y = mido.MidiFile(self.root + midi_f)\n",
        "    x = np.zeros(1000)\n",
        "    return x, y\n",
        "\n",
        "  def __len__(self):\n",
        "    return len(self.data)"
      ],
      "execution_count": 0,
      "outputs": []
    }
  ]
}