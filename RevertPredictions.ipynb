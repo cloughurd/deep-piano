{
 "cells": [
  {
   "cell_type": "code",
   "execution_count": 1,
   "metadata": {},
   "outputs": [],
   "source": [
    "import torch\n",
    "import torch.nn.functional as F\n",
    "import numpy as np\n",
    "import pretty_midi\n",
    "\n",
    "from utils import *\n",
    "from modelutils import *"
   ]
  },
  {
   "cell_type": "code",
   "execution_count": 2,
   "metadata": {},
   "outputs": [
    {
     "name": "stdout",
     "output_type": "stream",
     "text": [
      "Net(\n",
      "  (net): Sequential(\n",
      "    (0): ConvBlock(\n",
      "      (net): Sequential(\n",
      "        (0): Conv2d(1, 8, kernel_size=(3, 3), stride=(1, 1), padding=(1, 1))\n",
      "        (1): BatchNorm2d(8, eps=1e-05, momentum=0.1, affine=True, track_running_stats=True)\n",
      "        (2): ReLU()\n",
      "        (3): Conv2d(8, 8, kernel_size=(3, 3), stride=(1, 1), padding=(1, 1))\n",
      "        (4): BatchNorm2d(8, eps=1e-05, momentum=0.1, affine=True, track_running_stats=True)\n",
      "        (5): ReLU()\n",
      "        (6): Conv2d(8, 8, kernel_size=(3, 3), stride=(1, 1), padding=(1, 1))\n",
      "        (7): BatchNorm2d(8, eps=1e-05, momentum=0.1, affine=True, track_running_stats=True)\n",
      "        (8): Dropout2d(p=0.5, inplace=False)\n",
      "      )\n",
      "      (skip): Conv2d(1, 8, kernel_size=(1, 1), stride=(1, 1))\n",
      "      (final): ReLU()\n",
      "    )\n",
      "    (1): ConvBlock(\n",
      "      (net): Sequential(\n",
      "        (0): Conv2d(8, 16, kernel_size=(3, 3), stride=(1, 1), padding=(1, 1))\n",
      "        (1): BatchNorm2d(16, eps=1e-05, momentum=0.1, affine=True, track_running_stats=True)\n",
      "        (2): ReLU()\n",
      "        (3): Conv2d(16, 16, kernel_size=(3, 3), stride=(1, 1), padding=(1, 1))\n",
      "        (4): BatchNorm2d(16, eps=1e-05, momentum=0.1, affine=True, track_running_stats=True)\n",
      "        (5): ReLU()\n",
      "        (6): Conv2d(16, 16, kernel_size=(3, 3), stride=(1, 1), padding=(1, 1))\n",
      "        (7): BatchNorm2d(16, eps=1e-05, momentum=0.1, affine=True, track_running_stats=True)\n",
      "        (8): Dropout2d(p=0.5, inplace=False)\n",
      "      )\n",
      "      (skip): Conv2d(8, 16, kernel_size=(1, 1), stride=(1, 1))\n",
      "      (final): ReLU()\n",
      "    )\n",
      "    (2): MaxPool2d(kernel_size=(1, 2), stride=(1, 2), padding=0, dilation=1, ceil_mode=False)\n",
      "    (3): ConvBlock(\n",
      "      (net): Sequential(\n",
      "        (0): Conv2d(16, 32, kernel_size=(3, 3), stride=(1, 1), padding=(1, 1))\n",
      "        (1): BatchNorm2d(32, eps=1e-05, momentum=0.1, affine=True, track_running_stats=True)\n",
      "        (2): ReLU()\n",
      "        (3): Conv2d(32, 32, kernel_size=(3, 3), stride=(1, 1), padding=(1, 1))\n",
      "        (4): BatchNorm2d(32, eps=1e-05, momentum=0.1, affine=True, track_running_stats=True)\n",
      "        (5): ReLU()\n",
      "        (6): Conv2d(32, 32, kernel_size=(3, 3), stride=(1, 1), padding=(1, 1))\n",
      "        (7): BatchNorm2d(32, eps=1e-05, momentum=0.1, affine=True, track_running_stats=True)\n",
      "        (8): Dropout2d(p=0.5, inplace=False)\n",
      "      )\n",
      "      (skip): Conv2d(16, 32, kernel_size=(1, 1), stride=(1, 1))\n",
      "      (final): ReLU()\n",
      "    )\n",
      "    (4): ConvBlock(\n",
      "      (net): Sequential(\n",
      "        (0): Conv2d(32, 64, kernel_size=(3, 3), stride=(1, 1), padding=(1, 1))\n",
      "        (1): BatchNorm2d(64, eps=1e-05, momentum=0.1, affine=True, track_running_stats=True)\n",
      "        (2): ReLU()\n",
      "        (3): Conv2d(64, 64, kernel_size=(3, 3), stride=(1, 1), padding=(1, 1))\n",
      "        (4): BatchNorm2d(64, eps=1e-05, momentum=0.1, affine=True, track_running_stats=True)\n",
      "        (5): ReLU()\n",
      "        (6): Conv2d(64, 64, kernel_size=(3, 3), stride=(1, 1), padding=(1, 1))\n",
      "        (7): BatchNorm2d(64, eps=1e-05, momentum=0.1, affine=True, track_running_stats=True)\n",
      "        (8): Dropout2d(p=0.5, inplace=False)\n",
      "      )\n",
      "      (skip): Conv2d(32, 64, kernel_size=(1, 1), stride=(1, 1))\n",
      "      (final): ReLU()\n",
      "    )\n",
      "    (5): MaxPool2d(kernel_size=(1, 2), stride=(1, 2), padding=0, dilation=1, ceil_mode=False)\n",
      "    (6): ConvBlock(\n",
      "      (net): Sequential(\n",
      "        (0): Conv2d(64, 64, kernel_size=(3, 3), stride=(1, 1), padding=(1, 1))\n",
      "        (1): BatchNorm2d(64, eps=1e-05, momentum=0.1, affine=True, track_running_stats=True)\n",
      "        (2): ReLU()\n",
      "        (3): Conv2d(64, 64, kernel_size=(3, 3), stride=(1, 1), padding=(1, 1))\n",
      "        (4): BatchNorm2d(64, eps=1e-05, momentum=0.1, affine=True, track_running_stats=True)\n",
      "        (5): ReLU()\n",
      "        (6): Conv2d(64, 64, kernel_size=(3, 3), stride=(1, 1), padding=(1, 1))\n",
      "        (7): BatchNorm2d(64, eps=1e-05, momentum=0.1, affine=True, track_running_stats=True)\n",
      "        (8): Dropout2d(p=0.5, inplace=False)\n",
      "      )\n",
      "      (skip): Identity()\n",
      "      (final): ReLU()\n",
      "    )\n",
      "    (7): ConvBlock(\n",
      "      (net): Sequential(\n",
      "        (0): Conv2d(64, 128, kernel_size=(3, 3), stride=(1, 1), padding=(1, 1))\n",
      "        (1): BatchNorm2d(128, eps=1e-05, momentum=0.1, affine=True, track_running_stats=True)\n",
      "        (2): ReLU()\n",
      "        (3): Conv2d(128, 128, kernel_size=(3, 3), stride=(1, 1), padding=(1, 1))\n",
      "        (4): BatchNorm2d(128, eps=1e-05, momentum=0.1, affine=True, track_running_stats=True)\n",
      "        (5): ReLU()\n",
      "        (6): Conv2d(128, 128, kernel_size=(3, 3), stride=(1, 1), padding=(1, 1))\n",
      "        (7): BatchNorm2d(128, eps=1e-05, momentum=0.1, affine=True, track_running_stats=True)\n",
      "        (8): Dropout2d(p=0.5, inplace=False)\n",
      "      )\n",
      "      (skip): Conv2d(64, 128, kernel_size=(1, 1), stride=(1, 1))\n",
      "      (final): ReLU()\n",
      "    )\n",
      "    (8): MaxPool2d(kernel_size=(1, 2), stride=(1, 2), padding=0, dilation=1, ceil_mode=False)\n",
      "    (9): ConvBlock(\n",
      "      (net): Sequential(\n",
      "        (0): Conv2d(128, 128, kernel_size=(3, 3), stride=(1, 1), padding=(1, 1))\n",
      "        (1): BatchNorm2d(128, eps=1e-05, momentum=0.1, affine=True, track_running_stats=True)\n",
      "        (2): ReLU()\n",
      "        (3): Conv2d(128, 128, kernel_size=(3, 3), stride=(1, 1), padding=(1, 1))\n",
      "        (4): BatchNorm2d(128, eps=1e-05, momentum=0.1, affine=True, track_running_stats=True)\n",
      "        (5): ReLU()\n",
      "        (6): Conv2d(128, 128, kernel_size=(3, 3), stride=(1, 1), padding=(1, 1))\n",
      "        (7): BatchNorm2d(128, eps=1e-05, momentum=0.1, affine=True, track_running_stats=True)\n",
      "        (8): Dropout2d(p=0.5, inplace=False)\n",
      "      )\n",
      "      (skip): Identity()\n",
      "      (final): ReLU()\n",
      "    )\n",
      "    (10): AvgPool2d(kernel_size=(7, 33), stride=(7, 33), padding=0)\n",
      "  )\n",
      "  (final): Linear(in_features=128, out_features=88, bias=True)\n",
      ")\n"
     ]
    },
    {
     "name": "stderr",
     "output_type": "stream",
     "text": [
      "/Users/I516599/anaconda3/lib/python3.7/site-packages/torch/serialization.py:493: SourceChangeWarning: source code of class 'torch.nn.modules.container.Sequential' has changed. you can retrieve the original source code by accessing the object's source attribute or set `torch.nn.Module.dump_patches = True` and use the patch tool to revert the changes.\n",
      "  warnings.warn(msg, SourceChangeWarning)\n"
     ]
    }
   ],
   "source": [
    "model = load_model(\"transcriber11.mod\")\n",
    "print(model)"
   ]
  },
  {
   "cell_type": "code",
   "execution_count": 3,
   "metadata": {},
   "outputs": [
    {
     "name": "stdout",
     "output_type": "stream",
     "text": [
      "(8106219,)\n",
      "(15833, 7, 264)\n"
     ]
    }
   ],
   "source": [
    "x = wav_to_input('example.wav')"
   ]
  },
  {
   "cell_type": "code",
   "execution_count": 4,
   "metadata": {},
   "outputs": [
    {
     "name": "stdout",
     "output_type": "stream",
     "text": [
      "367.62897959183675 43.04883694852063\n"
     ]
    }
   ],
   "source": [
    "num_secs = 8106219 / 22050\n",
    "fps = 15826 / num_secs\n",
    "print(num_secs, fps)"
   ]
  },
  {
   "cell_type": "code",
   "execution_count": 5,
   "metadata": {},
   "outputs": [
    {
     "data": {
      "text/plain": [
       "torch.Size([1000, 1, 7, 264])"
      ]
     },
     "execution_count": 5,
     "metadata": {},
     "output_type": "execute_result"
    }
   ],
   "source": [
    "chunk = x[1000:2000]\n",
    "chunk = torch.from_numpy(chunk).float().unsqueeze(1)\n",
    "chunk.shape"
   ]
  },
  {
   "cell_type": "code",
   "execution_count": 6,
   "metadata": {},
   "outputs": [
    {
     "name": "stderr",
     "output_type": "stream",
     "text": [
      "/Users/I516599/anaconda3/lib/python3.7/site-packages/torch/nn/functional.py:1351: UserWarning: nn.functional.sigmoid is deprecated. Use torch.sigmoid instead.\n",
      "  warnings.warn(\"nn.functional.sigmoid is deprecated. Use torch.sigmoid instead.\")\n"
     ]
    }
   ],
   "source": [
    "model.eval()\n",
    "y_hat = F.sigmoid(model(chunk))"
   ]
  },
  {
   "cell_type": "code",
   "execution_count": 7,
   "metadata": {},
   "outputs": [
    {
     "name": "stdout",
     "output_type": "stream",
     "text": [
      "torch.Size([1000, 88])\n"
     ]
    }
   ],
   "source": [
    "print(y_hat.shape)"
   ]
  },
  {
   "cell_type": "code",
   "execution_count": 8,
   "metadata": {},
   "outputs": [
    {
     "data": {
      "text/plain": [
       "(128, 1000)"
      ]
     },
     "execution_count": 8,
     "metadata": {},
     "output_type": "execute_result"
    }
   ],
   "source": [
    "roll = y_hat.detach().numpy().T\n",
    "roll = np.pad(roll, ((20, 20), (0, 0)), mode='constant')\n",
    "roll.shape"
   ]
  },
  {
   "cell_type": "code",
   "execution_count": 9,
   "metadata": {},
   "outputs": [
    {
     "name": "stdout",
     "output_type": "stream",
     "text": [
      "<pretty_midi.pretty_midi.PrettyMIDI object at 0x1c3ea12940>\n"
     ]
    }
   ],
   "source": [
    "midi = piano_roll_to_pretty_midi(roll, fs=fps)\n",
    "print(midi)\n",
    "midi.write('examplepred.mid')"
   ]
  },
  {
   "cell_type": "code",
   "execution_count": 21,
   "metadata": {},
   "outputs": [],
   "source": [
    "import pygame\n",
    "\n",
    "pygame.mixer.init()\n",
    "pygame.mixer.music.load('examplepred.mid')\n",
    "pygame.mixer.music.play()"
   ]
  },
  {
   "cell_type": "code",
   "execution_count": 22,
   "metadata": {},
   "outputs": [],
   "source": [
    "pygame.mixer.music.stop()"
   ]
  },
  {
   "cell_type": "code",
   "execution_count": 12,
   "metadata": {},
   "outputs": [
    {
     "data": {
      "text/plain": [
       "tensor([[0.0004, 0.0004, 0.0002,  ..., 0.0002, 0.0002, 0.0002],\n",
       "        [0.0003, 0.0004, 0.0002,  ..., 0.0002, 0.0002, 0.0001],\n",
       "        [0.0003, 0.0004, 0.0002,  ..., 0.0002, 0.0002, 0.0001],\n",
       "        ...,\n",
       "        [0.0006, 0.0006, 0.0004,  ..., 0.0004, 0.0004, 0.0003],\n",
       "        [0.0005, 0.0005, 0.0003,  ..., 0.0004, 0.0003, 0.0002],\n",
       "        [0.0006, 0.0006, 0.0004,  ..., 0.0004, 0.0004, 0.0003]],\n",
       "       grad_fn=<SigmoidBackward>)"
      ]
     },
     "execution_count": 12,
     "metadata": {},
     "output_type": "execute_result"
    }
   ],
   "source": [
    "y_hat"
   ]
  },
  {
   "cell_type": "code",
   "execution_count": 19,
   "metadata": {},
   "outputs": [
    {
     "data": {
      "text/plain": [
       "<pretty_midi.pretty_midi.PrettyMIDI at 0x1c38741b38>"
      ]
     },
     "execution_count": 19,
     "metadata": {},
     "output_type": "execute_result"
    }
   ],
   "source": [
    "midi"
   ]
  },
  {
   "cell_type": "code",
   "execution_count": 24,
   "metadata": {},
   "outputs": [
    {
     "data": {
      "text/plain": [
       "0.0"
      ]
     },
     "execution_count": 24,
     "metadata": {},
     "output_type": "execute_result"
    }
   ],
   "source": [
    "midi.get_piano_roll().sum()"
   ]
  },
  {
   "cell_type": "code",
   "execution_count": 29,
   "metadata": {},
   "outputs": [
    {
     "data": {
      "text/plain": [
       "(128, 36562)"
      ]
     },
     "execution_count": 29,
     "metadata": {},
     "output_type": "execute_result"
    }
   ],
   "source": [
    "true_roll = pretty_midi.PrettyMIDI('example.mid').get_piano_roll()\n",
    "true_roll.shape"
   ]
  },
  {
   "cell_type": "code",
   "execution_count": 32,
   "metadata": {},
   "outputs": [],
   "source": [
    "true_reverted = piano_roll_to_pretty_midi(true_roll)\n",
    "true_reverted.write('examplereverted.mid')"
   ]
  },
  {
   "cell_type": "code",
   "execution_count": 31,
   "metadata": {},
   "outputs": [
    {
     "data": {
      "text/plain": [
       "<pretty_midi.pretty_midi.PrettyMIDI at 0x1c3c1b2da0>"
      ]
     },
     "execution_count": 31,
     "metadata": {},
     "output_type": "execute_result"
    }
   ],
   "source": [
    "true_reverted"
   ]
  },
  {
   "cell_type": "code",
   "execution_count": 46,
   "metadata": {},
   "outputs": [
    {
     "data": {
      "text/plain": [
       "(15833, 88)"
      ]
     },
     "execution_count": 46,
     "metadata": {},
     "output_type": "execute_result"
    }
   ],
   "source": [
    "y_truth = midi_to_output(pretty_midi.PrettyMIDI('example.mid'), x)\n",
    "y_truth.shape"
   ]
  },
  {
   "cell_type": "code",
   "execution_count": 48,
   "metadata": {},
   "outputs": [
    {
     "data": {
      "text/plain": [
       "0.0"
      ]
     },
     "execution_count": 48,
     "metadata": {},
     "output_type": "execute_result"
    }
   ],
   "source": [
    "np.min(y_truth)"
   ]
  },
  {
   "cell_type": "code",
   "execution_count": 15,
   "metadata": {},
   "outputs": [
    {
     "data": {
      "text/plain": [
       "tensor(6.3780e-05, grad_fn=<MinBackward1>)"
      ]
     },
     "execution_count": 15,
     "metadata": {},
     "output_type": "execute_result"
    }
   ],
   "source": [
    "y_hat.min()"
   ]
  },
  {
   "cell_type": "code",
   "execution_count": 20,
   "metadata": {},
   "outputs": [
    {
     "name": "stdout",
     "output_type": "stream",
     "text": [
      "Note(start=23.206202, end=23.229431, pitch=20, velocity=0)\n",
      "Note(start=23.206202, end=23.229431, pitch=21, velocity=0)\n",
      "Note(start=23.206202, end=23.229431, pitch=22, velocity=0)\n",
      "Note(start=23.206202, end=23.229431, pitch=23, velocity=0)\n",
      "Note(start=23.206202, end=23.229431, pitch=24, velocity=0)\n",
      "Note(start=23.206202, end=23.229431, pitch=25, velocity=0)\n",
      "Note(start=23.206202, end=23.229431, pitch=26, velocity=0)\n",
      "Note(start=23.206202, end=23.229431, pitch=27, velocity=0)\n",
      "Note(start=23.206202, end=23.229431, pitch=28, velocity=0)\n",
      "Note(start=23.206202, end=23.229431, pitch=29, velocity=0)\n",
      "Note(start=23.206202, end=23.229431, pitch=30, velocity=0)\n",
      "Note(start=23.206202, end=23.229431, pitch=31, velocity=0)\n",
      "Note(start=23.206202, end=23.229431, pitch=32, velocity=0)\n",
      "Note(start=23.206202, end=23.229431, pitch=33, velocity=0)\n",
      "Note(start=23.206202, end=23.229431, pitch=34, velocity=0)\n",
      "Note(start=23.206202, end=23.229431, pitch=35, velocity=0)\n",
      "Note(start=23.206202, end=23.229431, pitch=36, velocity=0)\n",
      "Note(start=23.206202, end=23.229431, pitch=37, velocity=0)\n",
      "Note(start=23.206202, end=23.229431, pitch=38, velocity=0)\n",
      "Note(start=23.206202, end=23.229431, pitch=39, velocity=0)\n",
      "Note(start=23.206202, end=23.229431, pitch=40, velocity=0)\n",
      "Note(start=23.206202, end=23.229431, pitch=41, velocity=0)\n",
      "Note(start=23.206202, end=23.229431, pitch=42, velocity=0)\n",
      "Note(start=23.206202, end=23.229431, pitch=43, velocity=0)\n",
      "Note(start=23.206202, end=23.229431, pitch=44, velocity=0)\n",
      "Note(start=23.206202, end=23.229431, pitch=45, velocity=0)\n",
      "Note(start=23.206202, end=23.229431, pitch=46, velocity=0)\n",
      "Note(start=23.206202, end=23.229431, pitch=47, velocity=0)\n",
      "Note(start=23.206202, end=23.229431, pitch=48, velocity=0)\n",
      "Note(start=23.206202, end=23.229431, pitch=49, velocity=0)\n",
      "Note(start=23.206202, end=23.229431, pitch=50, velocity=0)\n",
      "Note(start=23.206202, end=23.229431, pitch=51, velocity=0)\n",
      "Note(start=23.206202, end=23.229431, pitch=52, velocity=0)\n",
      "Note(start=23.206202, end=23.229431, pitch=53, velocity=0)\n",
      "Note(start=23.206202, end=23.229431, pitch=54, velocity=0)\n",
      "Note(start=23.206202, end=23.229431, pitch=55, velocity=0)\n",
      "Note(start=23.206202, end=23.229431, pitch=56, velocity=0)\n",
      "Note(start=23.206202, end=23.229431, pitch=57, velocity=0)\n",
      "Note(start=23.206202, end=23.229431, pitch=58, velocity=0)\n",
      "Note(start=23.206202, end=23.229431, pitch=59, velocity=0)\n",
      "Note(start=23.206202, end=23.229431, pitch=60, velocity=0)\n",
      "Note(start=23.206202, end=23.229431, pitch=61, velocity=0)\n",
      "Note(start=23.206202, end=23.229431, pitch=62, velocity=0)\n",
      "Note(start=23.206202, end=23.229431, pitch=63, velocity=0)\n",
      "Note(start=23.206202, end=23.229431, pitch=64, velocity=0)\n",
      "Note(start=23.206202, end=23.229431, pitch=65, velocity=0)\n",
      "Note(start=23.206202, end=23.229431, pitch=66, velocity=0)\n",
      "Note(start=23.206202, end=23.229431, pitch=67, velocity=0)\n",
      "Note(start=23.206202, end=23.229431, pitch=68, velocity=0)\n",
      "Note(start=23.206202, end=23.229431, pitch=69, velocity=0)\n",
      "Note(start=23.206202, end=23.229431, pitch=70, velocity=0)\n",
      "Note(start=23.206202, end=23.229431, pitch=71, velocity=0)\n",
      "Note(start=23.206202, end=23.229431, pitch=72, velocity=0)\n",
      "Note(start=23.206202, end=23.229431, pitch=73, velocity=0)\n",
      "Note(start=23.206202, end=23.229431, pitch=74, velocity=0)\n",
      "Note(start=23.206202, end=23.229431, pitch=75, velocity=0)\n",
      "Note(start=23.206202, end=23.229431, pitch=76, velocity=0)\n",
      "Note(start=23.206202, end=23.229431, pitch=77, velocity=0)\n",
      "Note(start=23.206202, end=23.229431, pitch=78, velocity=0)\n",
      "Note(start=23.206202, end=23.229431, pitch=79, velocity=0)\n",
      "Note(start=23.206202, end=23.229431, pitch=80, velocity=0)\n",
      "Note(start=23.206202, end=23.229431, pitch=81, velocity=0)\n",
      "Note(start=23.206202, end=23.229431, pitch=82, velocity=0)\n",
      "Note(start=23.206202, end=23.229431, pitch=83, velocity=0)\n",
      "Note(start=23.206202, end=23.229431, pitch=84, velocity=0)\n",
      "Note(start=23.206202, end=23.229431, pitch=85, velocity=0)\n",
      "Note(start=23.206202, end=23.229431, pitch=86, velocity=0)\n",
      "Note(start=23.206202, end=23.229431, pitch=87, velocity=0)\n",
      "Note(start=23.206202, end=23.229431, pitch=88, velocity=0)\n",
      "Note(start=23.206202, end=23.229431, pitch=89, velocity=0)\n",
      "Note(start=23.206202, end=23.229431, pitch=90, velocity=0)\n",
      "Note(start=23.206202, end=23.229431, pitch=91, velocity=0)\n",
      "Note(start=23.206202, end=23.229431, pitch=92, velocity=0)\n",
      "Note(start=23.206202, end=23.229431, pitch=93, velocity=0)\n",
      "Note(start=23.206202, end=23.229431, pitch=94, velocity=0)\n",
      "Note(start=23.206202, end=23.229431, pitch=95, velocity=0)\n",
      "Note(start=23.206202, end=23.229431, pitch=96, velocity=0)\n",
      "Note(start=23.206202, end=23.229431, pitch=97, velocity=0)\n",
      "Note(start=23.206202, end=23.229431, pitch=98, velocity=0)\n",
      "Note(start=23.206202, end=23.229431, pitch=99, velocity=0)\n",
      "Note(start=23.206202, end=23.229431, pitch=100, velocity=0)\n",
      "Note(start=23.206202, end=23.229431, pitch=101, velocity=0)\n",
      "Note(start=23.206202, end=23.229431, pitch=102, velocity=0)\n",
      "Note(start=23.206202, end=23.229431, pitch=103, velocity=0)\n",
      "Note(start=23.206202, end=23.229431, pitch=104, velocity=0)\n",
      "Note(start=23.206202, end=23.229431, pitch=105, velocity=0)\n",
      "Note(start=23.206202, end=23.229431, pitch=106, velocity=0)\n",
      "Note(start=23.206202, end=23.229431, pitch=107, velocity=0)\n"
     ]
    }
   ],
   "source": [
    "for i in midi.instruments:\n",
    "    for m in i.notes:\n",
    "        print(m)"
   ]
  },
  {
   "cell_type": "code",
   "execution_count": null,
   "metadata": {},
   "outputs": [],
   "source": []
  }
 ],
 "metadata": {
  "kernelspec": {
   "display_name": "Python 3",
   "language": "python",
   "name": "python3"
  },
  "language_info": {
   "codemirror_mode": {
    "name": "ipython",
    "version": 3
   },
   "file_extension": ".py",
   "mimetype": "text/x-python",
   "name": "python",
   "nbconvert_exporter": "python",
   "pygments_lexer": "ipython3",
   "version": "3.7.3"
  }
 },
 "nbformat": 4,
 "nbformat_minor": 2
}
