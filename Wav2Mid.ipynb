{
  "nbformat": 4,
  "nbformat_minor": 0,
  "metadata": {
    "colab": {
      "name": "Wav2Mid.ipynb",
      "provenance": [],
      "authorship_tag": "ABX9TyOg58FY+paiIIhqZhphCTqi",
      "include_colab_link": true
    },
    "kernelspec": {
      "name": "python3",
      "display_name": "Python 3"
    }
  },
  "cells": [
    {
      "cell_type": "markdown",
      "metadata": {
        "id": "view-in-github",
        "colab_type": "text"
      },
      "source": [
        "<a href=\"https://colab.research.google.com/github/cloughurd/deep-piano/blob/master/Wav2Mid.ipynb\" target=\"_parent\"><img src=\"https://colab.research.google.com/assets/colab-badge.svg\" alt=\"Open In Colab\"/></a>"
      ]
    },
    {
      "cell_type": "code",
      "metadata": {
        "id": "j_5dTPrhCTz6",
        "colab_type": "code",
        "colab": {}
      },
      "source": [
        "## Pulling ideas from https://github.com/jsleep/wav2mid\n",
        "## Data from http://www.tsi.telecom-paristech.fr/aao/en/2010/07/08/maps-database-a-piano-database-for-multipitch-estimation-and-automatic-transcription-of-music/"
      ],
      "execution_count": 0,
      "outputs": []
    },
    {
      "cell_type": "code",
      "metadata": {
        "id": "UEb63KBTCeCn",
        "colab_type": "code",
        "colab": {
          "base_uri": "https://localhost:8080/",
          "height": 204
        },
        "outputId": "0830d241-b97c-4cd6-aec1-817ec07d5fc2"
      },
      "source": [
        "!wget https://amubox.univ-amu.fr/s/iNG0xc5Td1Nv4rR/download"
      ],
      "execution_count": 3,
      "outputs": [
        {
          "output_type": "stream",
          "text": [
            "--2020-02-04 02:46:28--  https://amubox.univ-amu.fr/s/iNG0xc5Td1Nv4rR/download\n",
            "Resolving amubox.univ-amu.fr (amubox.univ-amu.fr)... 139.124.245.127\n",
            "Connecting to amubox.univ-amu.fr (amubox.univ-amu.fr)|139.124.245.127|:443... connected.\n",
            "HTTP request sent, awaiting response... 200 OK\n",
            "Length: unspecified [application/zip]\n",
            "Saving to: ‘download’\n",
            "\n",
            "download                [               <=>  ]  15.01G  62.9MB/s    in 4m 10s  \n",
            "\n",
            "2020-02-04 02:50:44 (61.4 MB/s) - ‘download’ saved [16119980528]\n",
            "\n"
          ],
          "name": "stdout"
        }
      ]
    },
    {
      "cell_type": "code",
      "metadata": {
        "id": "2YQm_n61F2SJ",
        "colab_type": "code",
        "colab": {
          "base_uri": "https://localhost:8080/",
          "height": 51
        },
        "outputId": "2eb310e0-2d12-4b49-a371-dc868c4802c7"
      },
      "source": [
        "!unzip -q download\n",
        "!rm download\n",
        "!mkdir data\n",
        "\n",
        "import os\n",
        "from zipfile import ZipFile\n",
        "\n",
        "for filename in os.listdir('MAPS/'):\n",
        "  if 'zip' in filename:\n",
        "    with ZipFile('MAPS/' + filename, 'r') as z:\n",
        "      z.extractall('data/' + filename.split('.')[0])\n",
        "\n",
        "!rm -r MAPS/"
      ],
      "execution_count": 13,
      "outputs": [
        {
          "output_type": "stream",
          "text": [
            "unzip:  cannot find or open download, download.zip or download.ZIP.\n",
            "rm: cannot remove 'download': No such file or directory\n"
          ],
          "name": "stdout"
        }
      ]
    },
    {
      "cell_type": "code",
      "metadata": {
        "id": "SVAuZzxGPyDq",
        "colab_type": "code",
        "colab": {
          "base_uri": "https://localhost:8080/",
          "height": 258
        },
        "outputId": "799396b0-63a8-4804-cfab-d737f3904bf6"
      },
      "source": [
        "!pip3 install torch \n",
        "!pip3 install torchvision\n",
        "!pip3 install tqdm\n",
        "!pip3 install pysoundfile"
      ],
      "execution_count": 15,
      "outputs": [
        {
          "output_type": "stream",
          "text": [
            "Requirement already satisfied: torch in /usr/local/lib/python3.6/dist-packages (1.4.0)\n",
            "Requirement already satisfied: torchvision in /usr/local/lib/python3.6/dist-packages (0.5.0)\n",
            "Requirement already satisfied: six in /usr/local/lib/python3.6/dist-packages (from torchvision) (1.12.0)\n",
            "Requirement already satisfied: pillow>=4.1.1 in /usr/local/lib/python3.6/dist-packages (from torchvision) (6.2.2)\n",
            "Requirement already satisfied: numpy in /usr/local/lib/python3.6/dist-packages (from torchvision) (1.17.5)\n",
            "Requirement already satisfied: torch==1.4.0 in /usr/local/lib/python3.6/dist-packages (from torchvision) (1.4.0)\n",
            "Requirement already satisfied: tqdm in /usr/local/lib/python3.6/dist-packages (4.28.1)\n",
            "Collecting pysoundfile\n",
            "  Downloading https://files.pythonhosted.org/packages/2a/b3/0b871e5fd31b9a8e54b4ee359384e705a1ca1e2870706d2f081dc7cc1693/PySoundFile-0.9.0.post1-py2.py3-none-any.whl\n",
            "Requirement already satisfied: cffi>=0.6 in /usr/local/lib/python3.6/dist-packages (from pysoundfile) (1.13.2)\n",
            "Requirement already satisfied: pycparser in /usr/local/lib/python3.6/dist-packages (from cffi>=0.6->pysoundfile) (2.19)\n",
            "Installing collected packages: pysoundfile\n",
            "Successfully installed pysoundfile-0.9.0.post1\n"
          ],
          "name": "stdout"
        }
      ]
    },
    {
      "cell_type": "code",
      "metadata": {
        "id": "l7gdlBZMQDqH",
        "colab_type": "code",
        "colab": {}
      },
      "source": [
        "import torch\n",
        "from torch.utils.data import Dataset, DataLoader\n",
        "\n",
        "import pandas as pd\n",
        "import soundfile as sf\n",
        "import pretty_midi\n",
        "import numpy as np\n",
        "import librosa"
      ],
      "execution_count": 0,
      "outputs": []
    },
    {
      "cell_type": "code",
      "metadata": {
        "id": "Poxthy_fNbUI",
        "colab_type": "code",
        "colab": {}
      },
      "source": [
        "class MapsDataset(Dataset):\n",
        "  def __init__(self, root):\n",
        "    self.wav_files = glob.glob(root + '*/*/MUS/MAPS_MUS*.wav')\n",
        "  def __getitem__(self, i):\n",
        "    x = sf.read(self.wav_files[i])\n",
        "    midi_filename = self.wav_files[i].split('.')[0] + '.mid'\n",
        "    y = pretty_midi.PrettyMIDI(midi_filename)\n",
        "    return x, y\n",
        "  def __len__(self):\n",
        "    return len(self.wav_files)"
      ],
      "execution_count": 0,
      "outputs": []
    },
    {
      "cell_type": "code",
      "metadata": {
        "id": "4U90gC8WRFtt",
        "colab_type": "code",
        "colab": {
          "base_uri": "https://localhost:8080/",
          "height": 136
        },
        "outputId": "833b8095-3c23-4fac-dbde-766b9e660b3b"
      },
      "source": [
        "dataset = MapsDataset('data/')\n",
        "x, y = dataset[0]\n",
        "print(x, y)"
      ],
      "execution_count": 20,
      "outputs": [
        {
          "output_type": "stream",
          "text": [
            "(array([[0., 0.],\n",
            "       [0., 0.],\n",
            "       [0., 0.],\n",
            "       ...,\n",
            "       [0., 0.],\n",
            "       [0., 0.],\n",
            "       [0., 0.]]), 44100) <pretty_midi.pretty_midi.PrettyMIDI object at 0x7fcf93e425f8>\n"
          ],
          "name": "stdout"
        }
      ]
    },
    {
      "cell_type": "code",
      "metadata": {
        "id": "r1QUA2yPRLje",
        "colab_type": "code",
        "colab": {}
      },
      "source": [
        ""
      ],
      "execution_count": 0,
      "outputs": []
    }
  ]
}